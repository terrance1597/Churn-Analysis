{
 "cells": [
  {
   "cell_type": "code",
   "execution_count": 1,
   "metadata": {
    "collapsed": true
   },
   "outputs": [],
   "source": [
    "# Classification template\n",
    "\n",
    "# Importing the libraries\n",
    "import numpy as np\n",
    "import matplotlib.pyplot as plt\n",
    "import pandas as pd\n",
    "\n",
    "# Importing the dataset\n",
    "dataset = pd.read_csv('C:\\\\Users\\\\Dell\\\\Downloads\\\\Artificial_Neural_Networks\\\\Churn_Modelling.csv')\n",
    "X = dataset.iloc[:, 3:13].values\n",
    "y = dataset.iloc[:, 13].values\n",
    "\n"
   ]
  },
  {
   "cell_type": "code",
   "execution_count": 2,
   "metadata": {},
   "outputs": [
    {
     "name": "stderr",
     "output_type": "stream",
     "text": [
      "C:\\Users\\Dell\\Anaconda3\\lib\\site-packages\\sklearn\\cross_validation.py:44: DeprecationWarning: This module was deprecated in version 0.18 in favor of the model_selection module into which all the refactored classes and functions are moved. Also note that the interface of the new CV iterators are different from that of this module. This module will be removed in 0.20.\n",
      "  \"This module will be removed in 0.20.\", DeprecationWarning)\n"
     ]
    }
   ],
   "source": [
    "\n",
    "# Encoding categorical data\n",
    "from sklearn.preprocessing import LabelEncoder, OneHotEncoder\n",
    "labelencoder_X_1 = LabelEncoder()\n",
    "X[:, 1] = labelencoder_X_1.fit_transform(X[:, 1])\n",
    "labelencoder_X_2 = LabelEncoder()\n",
    "X[:, 2] = labelencoder_X_2.fit_transform(X[:, 2])\n",
    "onehotencoder = OneHotEncoder(categorical_features = [1])\n",
    "X = onehotencoder.fit_transform(X).toarray()\n",
    "X = X[:,1:]\n",
    "\n",
    "# Splitting the dataset into the Training set and Test set\n",
    "from sklearn.cross_validation import train_test_split\n",
    "X_train, X_test, y_train, y_test = train_test_split(X, y, test_size = 0.2, random_state = 0)\n",
    "\n",
    "# Feature Scaling\n",
    "from sklearn.preprocessing import StandardScaler\n",
    "sc = StandardScaler()\n",
    "X_train = sc.fit_transform(X_train)\n",
    "X_test = sc.transform(X_test)\n"
   ]
  },
  {
   "cell_type": "code",
   "execution_count": 3,
   "metadata": {},
   "outputs": [
    {
     "name": "stderr",
     "output_type": "stream",
     "text": [
      "Using TensorFlow backend.\n"
     ]
    }
   ],
   "source": [
    "import keras\n",
    "from keras.models import Sequential\n",
    "from keras.layers import Dense"
   ]
  },
  {
   "cell_type": "code",
   "execution_count": 4,
   "metadata": {},
   "outputs": [
    {
     "name": "stderr",
     "output_type": "stream",
     "text": [
      "C:\\Users\\Dell\\Anaconda3\\lib\\site-packages\\ipykernel_launcher.py:2: UserWarning: Update your `Dense` call to the Keras 2 API: `Dense(activation=\"relu\", input_dim=11, units=6, kernel_initializer=\"uniform\")`\n",
      "  \n"
     ]
    }
   ],
   "source": [
    "classifier= Sequential()\n",
    "classifier.add(Dense(output_dim = 6, init = 'uniform', activation = 'relu', input_dim = 11))"
   ]
  },
  {
   "cell_type": "code",
   "execution_count": 5,
   "metadata": {},
   "outputs": [
    {
     "name": "stderr",
     "output_type": "stream",
     "text": [
      "C:\\Users\\Dell\\Anaconda3\\lib\\site-packages\\ipykernel_launcher.py:2: UserWarning: Update your `Dense` call to the Keras 2 API: `Dense(activation=\"relu\", units=6, kernel_initializer=\"uniform\")`\n",
      "  \n"
     ]
    }
   ],
   "source": [
    "#Adding second hidden layer\n",
    "classifier.add(Dense(output_dim = 6, init = 'uniform', activation = 'relu'))"
   ]
  },
  {
   "cell_type": "code",
   "execution_count": 6,
   "metadata": {},
   "outputs": [
    {
     "name": "stderr",
     "output_type": "stream",
     "text": [
      "C:\\Users\\Dell\\Anaconda3\\lib\\site-packages\\ipykernel_launcher.py:2: UserWarning: Update your `Dense` call to the Keras 2 API: `Dense(activation=\"sigmoid\", units=1, kernel_initializer=\"uniform\")`\n",
      "  \n"
     ]
    }
   ],
   "source": [
    "#Adding Output layer\n",
    "classifier.add(Dense(output_dim = 1, init = 'uniform', activation = 'sigmoid'))"
   ]
  },
  {
   "cell_type": "code",
   "execution_count": 7,
   "metadata": {
    "collapsed": true
   },
   "outputs": [],
   "source": [
    "#Compiling the ANN\n",
    "classifier.compile(optimizer = 'adam', loss = 'binary_crossentropy', metrics = ['accuracy'])"
   ]
  },
  {
   "cell_type": "code",
   "execution_count": 8,
   "metadata": {},
   "outputs": [
    {
     "name": "stdout",
     "output_type": "stream",
     "text": [
      "Epoch 1/100\n",
      "8000/8000 [==============================] - 2s 307us/step - loss: 0.4827 - acc: 0.7957\n",
      "Epoch 2/100\n",
      "8000/8000 [==============================] - 1s 178us/step - loss: 0.4287 - acc: 0.7960\n",
      "Epoch 3/100\n",
      "8000/8000 [==============================] - 1s 143us/step - loss: 0.4235 - acc: 0.7960\n",
      "Epoch 4/100\n",
      "8000/8000 [==============================] - 1s 144us/step - loss: 0.4194 - acc: 0.8084\n",
      "Epoch 5/100\n",
      "8000/8000 [==============================] - 1s 145us/step - loss: 0.4169 - acc: 0.8251\n",
      "Epoch 6/100\n",
      "8000/8000 [==============================] - 1s 142us/step - loss: 0.4148 - acc: 0.8287\n",
      "Epoch 7/100\n",
      "8000/8000 [==============================] - 2s 213us/step - loss: 0.4134 - acc: 0.8291\n",
      "Epoch 8/100\n",
      "8000/8000 [==============================] - 2s 198us/step - loss: 0.4120 - acc: 0.8301\n",
      "Epoch 9/100\n",
      "8000/8000 [==============================] - 1s 154us/step - loss: 0.4110 - acc: 0.8317\n",
      "Epoch 10/100\n",
      "8000/8000 [==============================] - 1s 151us/step - loss: 0.4097 - acc: 0.8325\n",
      "Epoch 11/100\n",
      "8000/8000 [==============================] - 2s 207us/step - loss: 0.4091 - acc: 0.8339\n",
      "Epoch 12/100\n",
      "8000/8000 [==============================] - 1s 155us/step - loss: 0.4077 - acc: 0.8336\n",
      "Epoch 13/100\n",
      "8000/8000 [==============================] - 1s 156us/step - loss: 0.4073 - acc: 0.8342\n",
      "Epoch 14/100\n",
      "8000/8000 [==============================] - 1s 153us/step - loss: 0.4065 - acc: 0.8341\n",
      "Epoch 15/100\n",
      "8000/8000 [==============================] - 2s 203us/step - loss: 0.4061 - acc: 0.8337\n",
      "Epoch 16/100\n",
      "8000/8000 [==============================] - 1s 158us/step - loss: 0.4059 - acc: 0.8346\n",
      "Epoch 17/100\n",
      "8000/8000 [==============================] - 1s 158us/step - loss: 0.4052 - acc: 0.8342\n",
      "Epoch 18/100\n",
      "8000/8000 [==============================] - 1s 152us/step - loss: 0.4047 - acc: 0.8350\n",
      "Epoch 19/100\n",
      "8000/8000 [==============================] - 2s 194us/step - loss: 0.4044 - acc: 0.8354\n",
      "Epoch 20/100\n",
      "8000/8000 [==============================] - 1s 171us/step - loss: 0.4046 - acc: 0.8347\n",
      "Epoch 21/100\n",
      "8000/8000 [==============================] - 1s 156us/step - loss: 0.4041 - acc: 0.8339\n",
      "Epoch 22/100\n",
      "8000/8000 [==============================] - 1s 153us/step - loss: 0.4039 - acc: 0.8336\n",
      "Epoch 23/100\n",
      "8000/8000 [==============================] - 2s 197us/step - loss: 0.4036 - acc: 0.8341\n",
      "Epoch 24/100\n",
      "8000/8000 [==============================] - 1s 151us/step - loss: 0.4037 - acc: 0.8356\n",
      "Epoch 25/100\n",
      "8000/8000 [==============================] - 1s 166us/step - loss: 0.4034 - acc: 0.8345\n",
      "Epoch 26/100\n",
      "8000/8000 [==============================] - 1s 157us/step - loss: 0.4034 - acc: 0.8340\n",
      "Epoch 27/100\n",
      "8000/8000 [==============================] - 2s 196us/step - loss: 0.4029 - acc: 0.8334\n",
      "Epoch 28/100\n",
      "8000/8000 [==============================] - 1s 157us/step - loss: 0.4028 - acc: 0.8345\n",
      "Epoch 29/100\n",
      "8000/8000 [==============================] - 1s 166us/step - loss: 0.4029 - acc: 0.8346\n",
      "Epoch 30/100\n",
      "8000/8000 [==============================] - 1s 151us/step - loss: 0.4026 - acc: 0.8332\n",
      "Epoch 31/100\n",
      "8000/8000 [==============================] - 2s 188us/step - loss: 0.4027 - acc: 0.8345\n",
      "Epoch 32/100\n",
      "8000/8000 [==============================] - 1s 177us/step - loss: 0.4021 - acc: 0.8347\n",
      "Epoch 33/100\n",
      "8000/8000 [==============================] - 2s 198us/step - loss: 0.4026 - acc: 0.8354\n",
      "Epoch 34/100\n",
      "8000/8000 [==============================] - 1s 179us/step - loss: 0.4024 - acc: 0.8345\n",
      "Epoch 35/100\n",
      "8000/8000 [==============================] - 2s 237us/step - loss: 0.4018 - acc: 0.8354\n",
      "Epoch 36/100\n",
      "8000/8000 [==============================] - 1s 171us/step - loss: 0.4020 - acc: 0.8356\n",
      "Epoch 37/100\n",
      "8000/8000 [==============================] - 2s 242us/step - loss: 0.4010 - acc: 0.8354\n",
      "Epoch 38/100\n",
      "8000/8000 [==============================] - 2s 206us/step - loss: 0.4020 - acc: 0.8344\n",
      "Epoch 39/100\n",
      "8000/8000 [==============================] - 2s 211us/step - loss: 0.4019 - acc: 0.8331\n",
      "Epoch 40/100\n",
      "8000/8000 [==============================] - 1s 170us/step - loss: 0.4015 - acc: 0.8349\n",
      "Epoch 41/100\n",
      "8000/8000 [==============================] - 1s 174us/step - loss: 0.4011 - acc: 0.8342\n",
      "Epoch 42/100\n",
      "8000/8000 [==============================] - 2s 225us/step - loss: 0.4012 - acc: 0.8344\n",
      "Epoch 43/100\n",
      "8000/8000 [==============================] - 1s 177us/step - loss: 0.4017 - acc: 0.8337\n",
      "Epoch 44/100\n",
      "8000/8000 [==============================] - 1s 179us/step - loss: 0.4014 - acc: 0.8347\n",
      "Epoch 45/100\n",
      "8000/8000 [==============================] - 2s 199us/step - loss: 0.4015 - acc: 0.8347\n",
      "Epoch 46/100\n",
      "8000/8000 [==============================] - 2s 239us/step - loss: 0.4012 - acc: 0.8349\n",
      "Epoch 47/100\n",
      "8000/8000 [==============================] - 2s 188us/step - loss: 0.4014 - acc: 0.8337\n",
      "Epoch 48/100\n",
      "8000/8000 [==============================] - 2s 218us/step - loss: 0.4013 - acc: 0.8339\n",
      "Epoch 49/100\n",
      "8000/8000 [==============================] - 2s 230us/step - loss: 0.4010 - acc: 0.8342\n",
      "Epoch 50/100\n",
      "8000/8000 [==============================] - 2s 211us/step - loss: 0.4008 - acc: 0.8342\n",
      "Epoch 51/100\n",
      "8000/8000 [==============================] - 1s 150us/step - loss: 0.4007 - acc: 0.8349\n",
      "Epoch 52/100\n",
      "8000/8000 [==============================] - 1s 166us/step - loss: 0.4011 - acc: 0.8351\n",
      "Epoch 53/100\n",
      "8000/8000 [==============================] - 2s 203us/step - loss: 0.4007 - acc: 0.8357\n",
      "Epoch 54/100\n",
      "8000/8000 [==============================] - 1s 154us/step - loss: 0.4008 - acc: 0.8340\n",
      "Epoch 55/100\n",
      "8000/8000 [==============================] - 1s 150us/step - loss: 0.4009 - acc: 0.8356\n",
      "Epoch 56/100\n",
      "8000/8000 [==============================] - 1s 153us/step - loss: 0.4005 - acc: 0.8357\n",
      "Epoch 57/100\n",
      "8000/8000 [==============================] - 2s 206us/step - loss: 0.4008 - acc: 0.8351\n",
      "Epoch 58/100\n",
      "8000/8000 [==============================] - 1s 154us/step - loss: 0.4006 - acc: 0.8354\n",
      "Epoch 59/100\n",
      "8000/8000 [==============================] - 1s 151us/step - loss: 0.4008 - acc: 0.8347\n",
      "Epoch 60/100\n",
      "8000/8000 [==============================] - 1s 150us/step - loss: 0.4008 - acc: 0.8351\n",
      "Epoch 61/100\n",
      "8000/8000 [==============================] - 2s 195us/step - loss: 0.4006 - acc: 0.8345\n",
      "Epoch 62/100\n",
      "8000/8000 [==============================] - 1s 160us/step - loss: 0.4003 - acc: 0.8337\n",
      "Epoch 63/100\n",
      "8000/8000 [==============================] - 1s 153us/step - loss: 0.4002 - acc: 0.8357\n",
      "Epoch 64/100\n",
      "8000/8000 [==============================] - 1s 152us/step - loss: 0.4002 - acc: 0.8341\n",
      "Epoch 65/100\n",
      "8000/8000 [==============================] - 1s 152us/step - loss: 0.4005 - acc: 0.8351\n",
      "Epoch 66/100\n",
      "8000/8000 [==============================] - 2s 208us/step - loss: 0.4005 - acc: 0.8359\n",
      "Epoch 67/100\n",
      "8000/8000 [==============================] - 1s 155us/step - loss: 0.4001 - acc: 0.8335\n",
      "Epoch 68/100\n",
      "8000/8000 [==============================] - 1s 160us/step - loss: 0.4003 - acc: 0.8369\n",
      "Epoch 69/100\n",
      "8000/8000 [==============================] - 1s 162us/step - loss: 0.4004 - acc: 0.8359\n",
      "Epoch 70/100\n",
      "8000/8000 [==============================] - 2s 224us/step - loss: 0.4004 - acc: 0.8347\n",
      "Epoch 71/100\n",
      "8000/8000 [==============================] - 1s 160us/step - loss: 0.4004 - acc: 0.8351\n",
      "Epoch 72/100\n",
      "8000/8000 [==============================] - 1s 149us/step - loss: 0.4001 - acc: 0.8347\n",
      "Epoch 73/100\n",
      "8000/8000 [==============================] - 1s 155us/step - loss: 0.4004 - acc: 0.8356\n",
      "Epoch 74/100\n",
      "8000/8000 [==============================] - 2s 209us/step - loss: 0.4001 - acc: 0.8339\n",
      "Epoch 75/100\n",
      "8000/8000 [==============================] - 1s 160us/step - loss: 0.3998 - acc: 0.8342\n",
      "Epoch 76/100\n",
      "8000/8000 [==============================] - 1s 153us/step - loss: 0.4001 - acc: 0.8345\n",
      "Epoch 77/100\n",
      "8000/8000 [==============================] - 1s 152us/step - loss: 0.4000 - acc: 0.8349\n",
      "Epoch 78/100\n",
      "8000/8000 [==============================] - 2s 195us/step - loss: 0.4001 - acc: 0.8354\n",
      "Epoch 79/100\n",
      "8000/8000 [==============================] - 1s 156us/step - loss: 0.4001 - acc: 0.8342\n",
      "Epoch 80/100\n",
      "8000/8000 [==============================] - 1s 159us/step - loss: 0.4000 - acc: 0.8351\n",
      "Epoch 81/100\n",
      "8000/8000 [==============================] - 1s 154us/step - loss: 0.4003 - acc: 0.8359\n",
      "Epoch 82/100\n",
      "8000/8000 [==============================] - 2s 215us/step - loss: 0.3998 - acc: 0.8351\n",
      "Epoch 83/100\n",
      "8000/8000 [==============================] - 1s 159us/step - loss: 0.4000 - acc: 0.8355\n",
      "Epoch 84/100\n",
      "8000/8000 [==============================] - 1s 154us/step - loss: 0.3998 - acc: 0.8354\n",
      "Epoch 85/100\n",
      "8000/8000 [==============================] - 1s 156us/step - loss: 0.4003 - acc: 0.8356\n",
      "Epoch 86/100\n",
      "8000/8000 [==============================] - 2s 245us/step - loss: 0.4003 - acc: 0.8351\n",
      "Epoch 87/100\n",
      "8000/8000 [==============================] - 1s 171us/step - loss: 0.3999 - acc: 0.8340\n",
      "Epoch 88/100\n",
      "8000/8000 [==============================] - 1s 161us/step - loss: 0.3997 - acc: 0.8352\n",
      "Epoch 89/100\n",
      "8000/8000 [==============================] - 2s 206us/step - loss: 0.3997 - acc: 0.8349\n",
      "Epoch 90/100\n",
      "8000/8000 [==============================] - 2s 208us/step - loss: 0.4007 - acc: 0.8352\n",
      "Epoch 91/100\n",
      "8000/8000 [==============================] - 1s 155us/step - loss: 0.4001 - acc: 0.8336\n",
      "Epoch 92/100\n",
      "8000/8000 [==============================] - 1s 161us/step - loss: 0.4000 - acc: 0.8345\n",
      "Epoch 93/100\n",
      "8000/8000 [==============================] - 1s 177us/step - loss: 0.3998 - acc: 0.8354\n",
      "Epoch 94/100\n",
      "8000/8000 [==============================] - 2s 225us/step - loss: 0.4003 - acc: 0.8352\n",
      "Epoch 95/100\n",
      "8000/8000 [==============================] - 1s 163us/step - loss: 0.3997 - acc: 0.8344\n",
      "Epoch 96/100\n",
      "8000/8000 [==============================] - 1s 167us/step - loss: 0.4001 - acc: 0.8356\n",
      "Epoch 97/100\n",
      "8000/8000 [==============================] - 1s 160us/step - loss: 0.4001 - acc: 0.8352\n",
      "Epoch 98/100\n",
      "8000/8000 [==============================] - 2s 204us/step - loss: 0.3997 - acc: 0.8344\n",
      "Epoch 99/100\n",
      "8000/8000 [==============================] - 1s 170us/step - loss: 0.4000 - acc: 0.8362\n",
      "Epoch 100/100\n",
      "8000/8000 [==============================] - 1s 163us/step - loss: 0.4000 - acc: 0.8354\n"
     ]
    },
    {
     "data": {
      "text/plain": [
       "<keras.callbacks.History at 0x269bf2d6ba8>"
      ]
     },
     "execution_count": 8,
     "metadata": {},
     "output_type": "execute_result"
    }
   ],
   "source": [
    "#Fitting the ANN\n",
    "classifier.fit(X_train, y_train, batch_size = 10, epochs = 100)"
   ]
  },
  {
   "cell_type": "code",
   "execution_count": 33,
   "metadata": {},
   "outputs": [
    {
     "name": "stdout",
     "output_type": "stream",
     "text": [
      "(8000, 11)\n",
      "(10000, 11)\n"
     ]
    }
   ],
   "source": [
    "print(X_train.shape)\n",
    "print(X.shape)"
   ]
  },
  {
   "cell_type": "code",
   "execution_count": 9,
   "metadata": {
    "collapsed": true
   },
   "outputs": [],
   "source": [
    "\n",
    "# Fitting classifier to the Training set\n",
    "# Create your classifier here\n",
    "\n",
    "\n",
    "# Predicting the Test set results\n",
    "y_pred = classifier.predict(X_test)\n",
    "y_pred = (y_pred > 0.5)\n",
    "\n",
    "# Making the Confusion Matrix\n",
    "from sklearn.metrics import confusion_matrix\n",
    "cm = confusion_matrix(y_test, y_pred)"
   ]
  },
  {
   "cell_type": "code",
   "execution_count": 10,
   "metadata": {},
   "outputs": [
    {
     "name": "stdout",
     "output_type": "stream",
     "text": [
      "[[1557   38]\n",
      " [ 278  127]]\n"
     ]
    }
   ],
   "source": [
    "print(cm)"
   ]
  },
  {
   "cell_type": "code",
   "execution_count": 12,
   "metadata": {},
   "outputs": [
    {
     "data": {
      "text/plain": [
       "0.842"
      ]
     },
     "execution_count": 12,
     "metadata": {},
     "output_type": "execute_result"
    }
   ],
   "source": [
    "(1557+127)/2000"
   ]
  },
  {
   "cell_type": "code",
   "execution_count": null,
   "metadata": {
    "collapsed": true
   },
   "outputs": [],
   "source": [
    "from keras.wrappers.scikit_learn import KerasClassifier\n",
    "from sklearn.model_selection import cross_val_score\n",
    "def build_classifier():\n",
    "    classifier= Sequential()\n",
    "    classifier.add(Dense(output_dim = 6, init = 'uniform', activation = 'relu', input_dim = 11))\n",
    "    classifier.add(Dense(output_dim = 6, init = 'uniform', activation = 'relu'))\n",
    "    classifier.add(Dense(output_dim = 1, init = 'uniform', activation = 'sigmoid'))\n",
    "    classifier.compile(optimizer = 'adam', loss = 'binary_crossentropy', metrics = ['accuracy'])\n",
    "    return classifier\n",
    "classifier = KerasClassifier(build_fn = build_classifier, batch_size = 10, epochs = 100)\n",
    "accuracies = cross_val_score(estimator = classifier, X = X_train, y = y_train, cv = 10, n_jobs = -1)\n",
    "    "
   ]
  },
  {
   "cell_type": "code",
   "execution_count": null,
   "metadata": {
    "collapsed": true
   },
   "outputs": [],
   "source": []
  }
 ],
 "metadata": {
  "kernelspec": {
   "display_name": "Python 3",
   "language": "python",
   "name": "python3"
  },
  "language_info": {
   "codemirror_mode": {
    "name": "ipython",
    "version": 3
   },
   "file_extension": ".py",
   "mimetype": "text/x-python",
   "name": "python",
   "nbconvert_exporter": "python",
   "pygments_lexer": "ipython3",
   "version": "3.6.8"
  }
 },
 "nbformat": 4,
 "nbformat_minor": 2
}
